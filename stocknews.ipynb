{
  "nbformat": 4,
  "nbformat_minor": 0,
  "metadata": {
    "colab": {
      "provenance": [],
      "authorship_tag": "ABX9TyPMyjT/hZRUmsYXOutlYji+",
      "include_colab_link": true
    },
    "kernelspec": {
      "name": "python3",
      "display_name": "Python 3"
    },
    "language_info": {
      "name": "python"
    }
  },
  "cells": [
    {
      "cell_type": "markdown",
      "metadata": {
        "id": "view-in-github",
        "colab_type": "text"
      },
      "source": [
        "<a href=\"https://colab.research.google.com/github/KimYuri94/2023CleanForNovices/blob/main/stocknews.ipynb\" target=\"_parent\"><img src=\"https://colab.research.google.com/assets/colab-badge.svg\" alt=\"Open In Colab\"/></a>"
      ]
    },
    {
      "cell_type": "code",
      "source": [
        "# Cell 1\n",
        "global_variable = \"AAPL\"\n"
      ],
      "metadata": {
        "id": "eutVtB-A5o_R"
      },
      "execution_count": 54,
      "outputs": []
    },
    {
      "cell_type": "markdown",
      "source": [
        "파일: introbackground.mp4,\n",
        "\n"
      ],
      "metadata": {
        "id": "XqjayWcuR-mZ"
      }
    },
    {
      "cell_type": "code",
      "source": [
        "pip install python-pptx\n"
      ],
      "metadata": {
        "colab": {
          "base_uri": "https://localhost:8080/"
        },
        "id": "WZJTdZlLd42Z",
        "outputId": "84d01180-5122-46f4-c01e-b4e1fd047f98"
      },
      "execution_count": 2,
      "outputs": [
        {
          "output_type": "stream",
          "name": "stdout",
          "text": [
            "Collecting python-pptx\n",
            "  Downloading python_pptx-1.0.2-py3-none-any.whl.metadata (2.5 kB)\n",
            "Requirement already satisfied: Pillow>=3.3.2 in /usr/local/lib/python3.10/dist-packages (from python-pptx) (11.0.0)\n",
            "Collecting XlsxWriter>=0.5.7 (from python-pptx)\n",
            "  Downloading XlsxWriter-3.2.0-py3-none-any.whl.metadata (2.6 kB)\n",
            "Requirement already satisfied: lxml>=3.1.0 in /usr/local/lib/python3.10/dist-packages (from python-pptx) (5.3.0)\n",
            "Requirement already satisfied: typing-extensions>=4.9.0 in /usr/local/lib/python3.10/dist-packages (from python-pptx) (4.12.2)\n",
            "Downloading python_pptx-1.0.2-py3-none-any.whl (472 kB)\n",
            "\u001b[2K   \u001b[90m━━━━━━━━━━━━━━━━━━━━━━━━━━━━━━━━━━━━━━━━\u001b[0m \u001b[32m472.8/472.8 kB\u001b[0m \u001b[31m5.0 MB/s\u001b[0m eta \u001b[36m0:00:00\u001b[0m\n",
            "\u001b[?25hDownloading XlsxWriter-3.2.0-py3-none-any.whl (159 kB)\n",
            "\u001b[2K   \u001b[90m━━━━━━━━━━━━━━━━━━━━━━━━━━━━━━━━━━━━━━━━\u001b[0m \u001b[32m159.9/159.9 kB\u001b[0m \u001b[31m7.5 MB/s\u001b[0m eta \u001b[36m0:00:00\u001b[0m\n",
            "\u001b[?25hInstalling collected packages: XlsxWriter, python-pptx\n",
            "Successfully installed XlsxWriter-3.2.0 python-pptx-1.0.2\n"
          ]
        }
      ]
    },
    {
      "cell_type": "markdown",
      "source": [
        "인트로 ppt 생성.\n",
        "필요 asset: 배경영상 introbackground.mp4, 뉴스 타이틀 텍스트파일 newstitle.txt\n"
      ],
      "metadata": {
        "id": "7K2OXJkpfawD"
      }
    },
    {
      "cell_type": "code",
      "source": [
        "from pptx import Presentation\n",
        "from pptx.util import Cm, Pt\n",
        "from pptx.dml.color import RGBColor\n",
        "from datetime import datetime\n",
        "\n",
        "# newstitle.txt 읽기\n",
        "with open('newstitle.txt', 'r', encoding='utf-8') as file:\n",
        "    content = file.read()\n",
        "\n",
        "# 텍스트를 단어 단위로 줄바꿈\n",
        "def split_text_by_word_count(text, max_word_count):\n",
        "    words = text.split()\n",
        "    lines = []\n",
        "    while len(words) > max_word_count:\n",
        "        lines.append(\" \".join(words[:max_word_count]))\n",
        "        words = words[max_word_count:]\n",
        "    lines.append(\" \".join(words))\n",
        "    return \"\\n\".join(lines)\n",
        "\n",
        "formatted_text = split_text_by_word_count(content, 10)\n",
        "\n",
        "# PPT 작성\n",
        "presentation = Presentation()\n",
        "\n",
        "# 슬라이드 크기 설정 (16:9)\n",
        "presentation.slide_width = Cm(33.867)  # 16:9 비율의 가로 크기\n",
        "presentation.slide_height = Cm(19.05)  # 16:9 비율의 세로 크기\n",
        "\n",
        "# 빈 슬라이드 추가\n",
        "slide = presentation.slides.add_slide(presentation.slide_layouts[6])\n",
        "\n",
        "# 비디오 배경 추가\n",
        "video = slide.shapes.add_movie(\n",
        "    'introbackground.mp4',\n",
        "    left=0,\n",
        "    top=0,\n",
        "    width=presentation.slide_width,\n",
        "    height=presentation.slide_height,\n",
        "    poster_frame_image=None,\n",
        "    mime_type='video/mp4'\n",
        ")\n",
        "\n",
        "# 비디오를 맨 뒤로 보내기\n",
        "video.z_order = 1\n",
        "\n",
        "# 텍스트 박스 추가\n",
        "textbox = slide.shapes.add_textbox(Cm(3.54), Cm(13.54), Cm(30.33), Cm(1.97))  # 위치 및 크기 설정\n",
        "text_frame = textbox.text_frame\n",
        "text_frame.word_wrap = True  # 텍스트 랩핑 활성화\n",
        "\n",
        "# 텍스트 설정\n",
        "p = text_frame.add_paragraph()\n",
        "p.text = formatted_text\n",
        "p.font.size = Pt(20)  # 폰트 크기 30pt\n",
        "p.font.bold = True\n",
        "p.font.name = \"Public Sans Bold\"\n",
        "p.font.color.rgb = RGBColor(255, 255, 255)  # 흰색 폰트 설정\n",
        "\n",
        "# 텍스트 박스 여백 설정\n",
        "text_frame.margin_left = Cm(0.25)  # 왼쪽 여백\n",
        "text_frame.margin_right = Cm(0.25)  # 오른쪽 여백\n",
        "text_frame.margin_top = Cm(0.13)  # 위쪽 여백\n",
        "text_frame.margin_bottom = Cm(0.13)  # 아래쪽 여백\n",
        "\n",
        "# 현재 날짜 추가\n",
        "current_date = datetime.now().strftime('%b. %d %Y').upper()  # 예: \"NOV. 21 2024\"\n",
        "date_textbox = slide.shapes.add_textbox(\n",
        "    Cm(1.87),  # 가로 위치\n",
        "    Cm(1.56),  # 세로 위치\n",
        "    Cm(10.64),  # 너비\n",
        "    Cm(2),  # 높이\n",
        ")\n",
        "date_text_frame = date_textbox.text_frame\n",
        "date_text_frame.text = current_date  # 날짜 텍스트 추가\n",
        "\n",
        "# 날짜 텍스트 스타일 설정\n",
        "date_p = date_text_frame.paragraphs[0]\n",
        "date_p.font.size = Pt(25)\n",
        "date_p.font.bold = True\n",
        "date_p.font.name = \"Public Sans Bold\"\n",
        "date_p.font.color.rgb = RGBColor(255, 255, 255)  # 흰색 폰트 설정\n",
        "\n",
        "# PPT 저장\n",
        "presentation.save('output_with_date_text.pptx')\n",
        "\n"
      ],
      "metadata": {
        "id": "lQD03bZybptm"
      },
      "execution_count": 45,
      "outputs": []
    },
    {
      "cell_type": "markdown",
      "source": [
        "content ppt 생성 (백그라운드 영상, 아바타영상 삽입)"
      ],
      "metadata": {
        "id": "FJLxmpnryAZ4"
      }
    },
    {
      "cell_type": "code",
      "source": [
        "from pptx import Presentation\n",
        "from pptx.util import Cm, Pt\n",
        "from pptx.dml.color import RGBColor\n",
        "\n",
        "# PPT 작성\n",
        "presentation = Presentation()\n",
        "\n",
        "# 슬라이드 크기 설정 (16:9)\n",
        "presentation.slide_width = Cm(33.867)  # 16:9 비율의 가로 크기\n",
        "presentation.slide_height = Cm(19.05)  # 16:9 비율의 세로 크기\n",
        "\n",
        "# 슬라이드 6개 생성 및 비디오 추가\n",
        "for n in range(1, 7):  # 슬라이드 번호 1~6\n",
        "    slide = presentation.slides.add_slide(presentation.slide_layouts[6])  # 빈 슬라이드 추가\n",
        "\n",
        "    # 비디오 배경 추가\n",
        "    video = slide.shapes.add_movie(\n",
        "    'contentbackground.mp4',\n",
        "    left=0,\n",
        "    top=0,\n",
        "    width=presentation.slide_width,\n",
        "    height=presentation.slide_height,\n",
        "    poster_frame_image=None,\n",
        "    mime_type='video/mp4'\n",
        "    )\n",
        "\n",
        "\n",
        "    # 비디오 추가\n",
        "    video_path = f\"videos/{n}.mp4\"  # 파일 이름: n.mp4\n",
        "    video = slide.shapes.add_movie(\n",
        "        video_path,\n",
        "        left=Cm(2.66),  # 가로 위치\n",
        "        top=Cm(2.76),  # 세로 위치\n",
        "        width=Cm(10),  # 비디오 너비\n",
        "        height=Cm(10),  # 비디오 높이\n",
        "        poster_frame_image=None,\n",
        "        mime_type='video/mp4'\n",
        "    )\n",
        "\n",
        "\n",
        "# PPT 저장\n",
        "presentation.save('bulk_created_slides_with_videos.pptx')\n"
      ],
      "metadata": {
        "id": "llJ4TWk5zyrH"
      },
      "execution_count": 50,
      "outputs": []
    },
    {
      "cell_type": "markdown",
      "source": [
        "차트 따오기 / 입력값 = 티커"
      ],
      "metadata": {
        "id": "QTCcYYN4dl4R"
      }
    },
    {
      "cell_type": "code",
      "source": [
        "!pip install requests\n"
      ],
      "metadata": {
        "colab": {
          "base_uri": "https://localhost:8080/"
        },
        "id": "tc9rgKFb1vaj",
        "outputId": "779de1d0-e84d-4717-d5ce-0d711ce2170a"
      },
      "execution_count": 50,
      "outputs": [
        {
          "output_type": "stream",
          "name": "stdout",
          "text": [
            "Requirement already satisfied: requests in /usr/local/lib/python3.10/dist-packages (2.32.3)\n",
            "Requirement already satisfied: charset-normalizer<4,>=2 in /usr/local/lib/python3.10/dist-packages (from requests) (3.4.0)\n",
            "Requirement already satisfied: idna<4,>=2.5 in /usr/local/lib/python3.10/dist-packages (from requests) (3.10)\n",
            "Requirement already satisfied: urllib3<3,>=1.21.1 in /usr/local/lib/python3.10/dist-packages (from requests) (2.2.3)\n",
            "Requirement already satisfied: certifi>=2017.4.17 in /usr/local/lib/python3.10/dist-packages (from requests) (2024.8.30)\n"
          ]
        }
      ]
    },
    {
      "cell_type": "code",
      "source": [
        "!pip install pyppeteer\n"
      ],
      "metadata": {
        "colab": {
          "base_uri": "https://localhost:8080/"
        },
        "id": "ZgRrlgmZ3fRq",
        "outputId": "f5ba6554-e14b-44ad-90e6-b553afd82882"
      },
      "execution_count": 1,
      "outputs": [
        {
          "output_type": "stream",
          "name": "stdout",
          "text": [
            "Requirement already satisfied: pyppeteer in /usr/local/lib/python3.10/dist-packages (2.0.0)\n",
            "Requirement already satisfied: appdirs<2.0.0,>=1.4.3 in /usr/local/lib/python3.10/dist-packages (from pyppeteer) (1.4.4)\n",
            "Requirement already satisfied: certifi>=2023 in /usr/local/lib/python3.10/dist-packages (from pyppeteer) (2024.8.30)\n",
            "Requirement already satisfied: importlib-metadata>=1.4 in /usr/local/lib/python3.10/dist-packages (from pyppeteer) (8.5.0)\n",
            "Requirement already satisfied: pyee<12.0.0,>=11.0.0 in /usr/local/lib/python3.10/dist-packages (from pyppeteer) (11.1.1)\n",
            "Requirement already satisfied: tqdm<5.0.0,>=4.42.1 in /usr/local/lib/python3.10/dist-packages (from pyppeteer) (4.66.6)\n",
            "Requirement already satisfied: urllib3<2.0.0,>=1.25.8 in /usr/local/lib/python3.10/dist-packages (from pyppeteer) (1.26.20)\n",
            "Requirement already satisfied: websockets<11.0,>=10.0 in /usr/local/lib/python3.10/dist-packages (from pyppeteer) (10.4)\n",
            "Requirement already satisfied: zipp>=3.20 in /usr/local/lib/python3.10/dist-packages (from importlib-metadata>=1.4->pyppeteer) (3.21.0)\n",
            "Requirement already satisfied: typing-extensions in /usr/local/lib/python3.10/dist-packages (from pyee<12.0.0,>=11.0.0->pyppeteer) (4.12.2)\n"
          ]
        }
      ]
    },
    {
      "cell_type": "code",
      "source": [
        "!pip install nest_asyncio\n"
      ],
      "metadata": {
        "colab": {
          "base_uri": "https://localhost:8080/"
        },
        "id": "qf1IZqQH3wpf",
        "outputId": "d2340d8c-d032-4c87-dc46-8bc9c8acc401"
      },
      "execution_count": 3,
      "outputs": [
        {
          "output_type": "stream",
          "name": "stdout",
          "text": [
            "Requirement already satisfied: nest_asyncio in /usr/local/lib/python3.10/dist-packages (1.6.0)\n"
          ]
        }
      ]
    },
    {
      "cell_type": "code",
      "source": [
        "import asyncio\n",
        "from pyppeteer import launch\n",
        "import nest_asyncio\n",
        "\n",
        "# Apply nest_asyncio to support nested event loops\n",
        "nest_asyncio.apply()\n",
        "\n",
        "async def capture_tradingview_chart(symbol, filename):\n",
        "    # TradingView widget URL\n",
        "    #widget_url = f\"https://s.tradingview.com/widgetembed/?symbol={symbol}&interval=5&hidesidetoolbar=1&theme=dark&style=1&locale=en&autosize=1\"\n",
        "    widget_url = f\"https://s.tradingview.com/widgetembed/?symbol={symbol}&interval=D&hidesidetoolbar=1&theme=dark&style=1&locale=en&autosize=1\"\n",
        "\n",
        "    # Launch a headless browser\n",
        "    browser = await launch(\n",
        "        headless=True,\n",
        "        args=[\"--no-sandbox\", \"--disable-setuid-sandbox\", \"--disable-dev-shm-usage\", \"--disable-gpu\"],\n",
        "    )\n",
        "    page = await browser.newPage()\n",
        "\n",
        "    try:\n",
        "        # Set viewport size\n",
        "        await page.setViewport({\"width\": 1920, \"height\": 1080})\n",
        "\n",
        "        # Navigate to TradingView widget URL\n",
        "        print(f\"Loading URL: {widget_url}\")\n",
        "        await page.goto(widget_url, {\"waitUntil\": \"networkidle2\"})\n",
        "\n",
        "        # Wait for the chart container to load\n",
        "        await page.waitForSelector(\".chart-container\")\n",
        "\n",
        "        # Screenshot the entire page\n",
        "        await page.screenshot({\"path\": filename, \"fullPage\": True})\n",
        "        print(f\"Chart saved as {filename}\")\n",
        "\n",
        "    except Exception as e:\n",
        "        print(f\"An error occurred: {e}\")\n",
        "    finally:\n",
        "        # Close the browser\n",
        "        await browser.close()\n",
        "\n",
        "def main():\n",
        "    # Get user input for stock symbol\n",
        "    symbol = global_variable #input(\"Enter stock code (e.g., NASDAQ:AAPL, NYSE:AMD): \").strip().replace(\" \", \"\")\n",
        "    filename = f\"{symbol.replace(':', '_')}_chart.png\"\n",
        "\n",
        "    # Run the async function\n",
        "    asyncio.run(capture_tradingview_chart(symbol, filename))\n",
        "\n",
        "main()\n"
      ],
      "metadata": {
        "colab": {
          "base_uri": "https://localhost:8080/"
        },
        "id": "mu5-BTnb2rW-",
        "outputId": "58b2bf78-23dd-42e9-c5ec-b84a767b5377"
      },
      "execution_count": 55,
      "outputs": [
        {
          "output_type": "stream",
          "name": "stderr",
          "text": [
            "/usr/local/lib/python3.10/dist-packages/pyppeteer/util.py:29: RuntimeWarning: coroutine 'capture_tradingview_chart' was never awaited\n",
            "  gc.collect()\n",
            "RuntimeWarning: Enable tracemalloc to get the object allocation traceback\n"
          ]
        },
        {
          "output_type": "stream",
          "name": "stdout",
          "text": [
            "Loading URL: https://s.tradingview.com/widgetembed/?symbol=AAPL&interval=D&hidesidetoolbar=1&theme=dark&style=1&locale=en&autosize=1\n",
            "Chart saved as AAPL_chart.png\n"
          ]
        }
      ]
    },
    {
      "cell_type": "markdown",
      "source": [
        "아바타 생성 (avatar_id / voice_id) 리스트\n",
        "\n",
        "\n",
        "1.   Gerardo_standing_nightscene_front / 21454737ca584945ae544e2cffb9186e\n",
        "2.   Artur_sitting_office_front / 35659e86ce244d8389d525a9648d9c4a\n",
        "3. Aubrey_standing_night_scene_front / da6a3889803f4ef29db3b9cdd7ec7135\n",
        "4. Masha_sitting_office_front / 2483607b55fd41b5af64e362ceedf90e\n",
        "\n"
      ],
      "metadata": {
        "id": "bYvftBo06dWC"
      }
    },
    {
      "cell_type": "code",
      "source": [
        "import requests\n",
        "import json\n",
        "import os\n",
        "import time\n",
        "\n",
        "# Define the API endpoint and your API key\n",
        "generate_url = \"https://api.heygen.com/v2/video/generate\"\n",
        "status_url = \"https://api.heygen.com/v1/video_status.get\"\n",
        "api_key = \"ZTA0MWNlYjRlODA5NGZkZWJkZGQ4YzVlOWZhOWZhNjItMTczMDAxNjk1Mg==\"\n",
        "\n",
        "# Define headers\n",
        "headers = {\n",
        "    \"X-Api-Key\": api_key,\n",
        "    \"Content-Type\": \"application/json\",\n",
        "    \"Accept\": \"application/json\"\n",
        "}\n",
        "\n",
        "\n",
        "\n",
        "\n",
        "\n",
        "\n",
        "# Ensure the 'videos' directory exists\n",
        "os.makedirs(\"videos\", exist_ok=True)\n",
        "\n",
        "# Function to generate a video and return video_id\n",
        "def generate_video(input_text):\n",
        "    # Define the payload with dynamic input text\n",
        "    payload = {\n",
        "                \"video_inputs\": [\n",
        "            {\n",
        "                \"character\": {\n",
        "                    \"type\": \"avatar\",\n",
        "                    \"avatar_id\": \"Gerardo_standing_nightscene_front\",\n",
        "                    \"avatar_style\": \"normal\"\n",
        "                },\n",
        "                \"voice\": {\n",
        "                    \"type\": \"text\",\n",
        "                    \"input_text\": input_text,\n",
        "                    \"voice_id\": \"21454737ca584945ae544e2cffb9186e\",\n",
        "                    \"speed\": 1.1\n",
        "                }\n",
        "            }\n",
        "        ],\n",
        "        \"test\": False,\n",
        "        \"aspect_ratio\": \"1:1\"\n",
        "    }\n",
        "\n",
        "    # Send POST request to generate video\n",
        "    response = requests.post(generate_url, headers=headers, data=json.dumps(payload))\n",
        "    response_data = response.json()\n",
        "\n",
        "    # Extract video_id if generation is successful\n",
        "    video_id = response_data['data'].get('video_id') if response_data['error'] is None else None\n",
        "    return video_id\n",
        "\n",
        "# Function to download video using video_id\n",
        "def download_video(video_id, output_file):\n",
        "    download_url = f\"{status_url}?video_id={video_id}\"\n",
        "\n",
        "    # Polling for video completion status\n",
        "    while True:\n",
        "        response = requests.get(download_url, headers=headers)\n",
        "        data = response.json()\n",
        "\n",
        "        if data['data'].get('video_url'):\n",
        "            video_url = data['data']['video_url']\n",
        "\n",
        "            # Download the video file\n",
        "            video_response = requests.get(video_url)\n",
        "            with open(output_file, 'wb') as f:\n",
        "                f.write(video_response.content)\n",
        "\n",
        "            print(f\"Downloaded video for video_id: {video_id} as {output_file}\")\n",
        "            break\n",
        "        else:\n",
        "            print(f\"Video {video_id} not ready yet. Checking again in 30 seconds.\")\n",
        "            time.sleep(30)  # Wait before retrying\n",
        "\n",
        "# Generate videos from text files and download them\n",
        "n = 6  # Set the total number of files, update as needed\n",
        "video_ids = []  # Store video IDs for each file\n",
        "\n",
        "for i in range(1, n + 1):\n",
        "    file_name = f\"{i}.txt\"\n",
        "\n",
        "    # Check if file exists\n",
        "    if os.path.exists(file_name):\n",
        "        # Read the content of the text file\n",
        "        with open(file_name, \"r\") as file:\n",
        "            input_text = file.read().strip()\n",
        "\n",
        "        # Generate the video and get the video_id\n",
        "        video_id = generate_video(input_text)\n",
        "\n",
        "        if video_id:\n",
        "            # Add the video file path under the 'videos' folder\n",
        "            output_file = os.path.join(\"videos\", f\"{i}.mp4\")\n",
        "            video_ids.append((video_id, output_file))\n",
        "            print(f\"Generated video for {file_name}: video_id={video_id}\")\n",
        "        else:\n",
        "            print(f\"Failed to generate video for {file_name}\")\n",
        "    else:\n",
        "        print(f\"File {file_name} does not exist.\")\n",
        "\n",
        "# Download each generated video by its video_id\n",
        "for video_id, output_file in video_ids:\n",
        "    download_video(video_id, output_file)"
      ],
      "metadata": {
        "id": "fGJZluu5gB0i"
      },
      "execution_count": null,
      "outputs": []
    }
  ]
}